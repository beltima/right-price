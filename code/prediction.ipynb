{
 "cells": [
  {
   "cell_type": "code",
   "execution_count": 1,
   "metadata": {},
   "outputs": [],
   "source": [
    "import pandas as pd #nul\n",
    "import numpy as np\n",
    "import datetime as dt\n",
    "import matplotlib.pyplot as plt\n",
    "import json\n",
    "import geopandas as gpd\n",
    "from tool_function import *"
   ]
  },
  {
   "cell_type": "code",
   "execution_count": 75,
   "metadata": {},
   "outputs": [],
   "source": [
    "from sklearn.preprocessing import OneHotEncoder\n",
    "from sklearn.model_selection import train_test_split\n",
    "from sklearn.preprocessing import StandardScaler"
   ]
  },
  {
   "cell_type": "markdown",
   "metadata": {},
   "source": [
    "# Data Prep"
   ]
  },
  {
   "cell_type": "code",
   "execution_count": 2,
   "metadata": {},
   "outputs": [],
   "source": [
    "mutations = pd.read_pickle('../../data_mutation/geometric_mutations.pkl')"
   ]
  },
  {
   "cell_type": "code",
   "execution_count": 3,
   "metadata": {},
   "outputs": [
    {
     "name": "stdout",
     "output_type": "stream",
     "text": [
      "hi!\n"
     ]
    }
   ],
   "source": [
    "mutations = mutation_process(mutations)\n",
    "mutations = niveau_center_connexion(mutations)"
   ]
  },
  {
   "cell_type": "code",
   "execution_count": 61,
   "metadata": {},
   "outputs": [],
   "source": [
    "# We only want newly built\n",
    "mutations = mutations[mutations.libnatmut.isin([\"Vente en l'état futur d'achèvement\", 'Vente'])].copy()\n",
    "\n",
    "#We only want appartements\n",
    "mutations_apt = mutations[(mutations.nblocmai == 0) & \n",
    "(mutations.nblocdep == 0) &\n",
    "(mutations.nblocact == 0) &\n",
    "(mutations.nblocapt > 0) ].copy()\n",
    "\n",
    "#'libtypbien' to erase?\n",
    "#'first_idpar' to erase?\n",
    "mutations_apt = mutations[\n",
    "  ['idmutation', 'idmutinvar', 'idopendata', 'idnatmut', \n",
    "      'datemut', 'coddep', 'libnatmut', 'vefa', 'valeurfonc',\n",
    "       'nbdispo', 'nblot', 'nbcomm', 'l_codinsee', \n",
    "       'nbpar', 'nbparmut', 'nbsuf', 'sterr',\n",
    "       'nbvolmut', 'nblocmut', 'nblocapt',\n",
    "       'nbapt1pp', 'nbapt2pp', 'nbapt3pp', 'nbapt4pp',\n",
    "       'nbapt5pp', 'sbatapt', 'sapt1pp', 'sapt2pp',\n",
    "       'sapt3pp', 'sapt4pp', 'sapt5pp', \n",
    "       'codtypbien', 'department_code', 'libtypbien',\n",
    "       'geometry', 'centroid', 'month', 'year', 'day',\n",
    "       'nivcentr']\n",
    "       ].copy()\n",
    "\n",
    "#remove rows with a valeurfonc lower then 5k? \n",
    "mutations_apt = mutations_apt[mutations_apt.valeurfonc < 5000].copy()"
   ]
  },
  {
   "cell_type": "code",
   "execution_count": null,
   "metadata": {},
   "outputs": [],
   "source": [
    "'idmutation', \n",
    "      'datemut', 'coddep', 'libnatmut', 'vefa',\n",
    "       'nbdispo', 'nblot', 'nbcomm', 'l_codinsee', \n",
    "       'nbpar', 'nbparmut', 'nbsuf', 'sterr',\n",
    "       'nbvolmut', 'nblocmut', 'nblocapt',\n",
    "       'nbapt1pp', 'nbapt2pp', 'nbapt3pp', 'nbapt4pp',\n",
    "       'nbapt5pp', 'sbatapt', 'sapt1pp', 'sapt2pp',\n",
    "       'sapt3pp', 'sapt4pp', 'sapt5pp', \n",
    "       'codtypbien', 'department_code', 'libtypbien',\n",
    "       'month', 'year', 'day',\n",
    "       'nivcentr'\n",
    "\n",
    "one_hot = ['libnatmut', 'libtypbien']\n",
    "y = ['valeurfonc']"
   ]
  },
  {
   "cell_type": "markdown",
   "metadata": {},
   "source": [
    "# Separate X and Y"
   ]
  },
  {
   "cell_type": "code",
   "execution_count": 74,
   "metadata": {},
   "outputs": [],
   "source": [
    "X = mutations_apt[[\n",
    "    'idmutation', \n",
    "      'datemut', 'coddep', 'libnatmut', 'vefa',\n",
    "       'nbdispo', 'nblot', 'nbcomm', 'l_codinsee', \n",
    "       'nbpar', 'nbparmut', 'nbsuf', 'sterr',\n",
    "       'nbvolmut', 'nblocmut', 'nblocapt',\n",
    "       'nbapt1pp', 'nbapt2pp', 'nbapt3pp', 'nbapt4pp',\n",
    "       'nbapt5pp', 'sbatapt', 'sapt1pp', 'sapt2pp',\n",
    "       'sapt3pp', 'sapt4pp', 'sapt5pp', \n",
    "       'codtypbien', 'department_code', 'libtypbien',\n",
    "       'month', 'year', 'day',\n",
    "       'nivcentr'\n",
    "]].copy()\n",
    "Y = mutations_apt[['valeurfonc']].copy()\n",
    "X_train, X_test, y_train, y_test = train_test_split(X, Y, test_size=0.33, random_state=42)"
   ]
  },
  {
   "cell_type": "code",
   "execution_count": 70,
   "metadata": {},
   "outputs": [],
   "source": [
    "ohe = OneHotEncoder(handle_unknown='ignore')\n",
    "scalery = StandardScaler().fit(y_train)\n"
   ]
  },
  {
   "cell_type": "code",
   "execution_count": null,
   "metadata": {},
   "outputs": [],
   "source": []
  }
 ],
 "metadata": {
  "kernelspec": {
   "display_name": "Python 3.8.5 ('base')",
   "language": "python",
   "name": "python3"
  },
  "language_info": {
   "codemirror_mode": {
    "name": "ipython",
    "version": 3
   },
   "file_extension": ".py",
   "mimetype": "text/x-python",
   "name": "python",
   "nbconvert_exporter": "python",
   "pygments_lexer": "ipython3",
   "version": "3.8.5"
  },
  "orig_nbformat": 4,
  "vscode": {
   "interpreter": {
    "hash": "bc895b69e755cdb2d9601c81f5369a2139eccb1bb64c066cd88f550054f4d0ce"
   }
  }
 },
 "nbformat": 4,
 "nbformat_minor": 2
}
