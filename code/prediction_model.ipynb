{
 "cells": [
  {
   "cell_type": "code",
   "execution_count": 1,
   "metadata": {},
   "outputs": [
    {
     "data": {
      "text/plain": [
       "DataTransformerRegistry.enable('default')"
      ]
     },
     "execution_count": 1,
     "metadata": {},
     "output_type": "execute_result"
    }
   ],
   "source": [
    "#careful\n",
    "import pandas as pd #nul\n",
    "import numpy as np\n",
    "import datetime as dt\n",
    "import matplotlib.pyplot as plt\n",
    "import json\n",
    "import geopandas as gpd\n",
    "from tool_function import *\n",
    "import altair as alt\n",
    "from altair import expr, datum\n",
    "alt.data_transformers.disable_max_rows()"
   ]
  },
  {
   "cell_type": "code",
   "execution_count": 10,
   "metadata": {},
   "outputs": [],
   "source": [
    "#Sklearn\n",
    "from sklearn.preprocessing import OneHotEncoder\n",
    "from sklearn.model_selection import train_test_split\n",
    "from sklearn.ensemble import RandomForestClassifier, RandomForestRegressor\n",
    "from sklearn.metrics import classification_report\n",
    "from sklearn.linear_model import LogisticRegression\n",
    "from sklearn.linear_model import LogisticRegressionCV\n",
    "from sklearn.pipeline import make_pipeline, Pipeline\n",
    "from sklearn.preprocessing import StandardScaler, MinMaxScaler\n",
    "from sklearn.compose import make_column_transformer\n",
    "from sklearn.compose import make_column_selector\n",
    "from sklearn import svm\n",
    "from sklearn.inspection import permutation_importance\n",
    "from sklearn.decomposition import PCA, TruncatedSVD\n",
    "from sklearn.pipeline import make_pipeline\n",
    "from sklearn.manifold import TSNE\n",
    "from sklearn.model_selection import GridSearchCV\n",
    "from sklearn.metrics import r2_score, mean_squared_error, mean_absolute_error\n",
    "from sklearn.metrics import RocCurveDisplay\n",
    "from sklearn.base import clone\n",
    "from sklearn import linear_model\n",
    "import xgboost\n",
    "\n",
    "from scipy.spatial import cKDTree\n",
    "from shapely.geometry import Point, LineString\n",
    "from shapely.geometry import Point\n"
   ]
  },
  {
   "attachments": {},
   "cell_type": "markdown",
   "metadata": {},
   "source": [
    "# Data Prep\n"
   ]
  },
  {
   "cell_type": "code",
   "execution_count": 4,
   "metadata": {},
   "outputs": [
    {
     "name": "stdout",
     "output_type": "stream",
     "text": [
      "\n",
      "Initial shape:\n",
      "(1271568, 64)\n",
      "\n",
      "Original shape mutation process (1271568, 64)\n",
      "Final shape mutation process (1259641, 41)\n",
      "\n",
      "Shape before adjustment of bati: (1259641, 41)\n",
      "Shape after adjustment of bati: (630565, 44), that is  50.06% of original observations\n",
      "\n"
     ]
    },
    {
     "name": "stderr",
     "output_type": "stream",
     "text": [
      "/Users/muhieddineugo/opt/miniconda3/lib/python3.8/site-packages/openpyxl/styles/stylesheet.py:221: UserWarning: Workbook contains no default style, apply openpyxl's default\n",
      "  warn(\"Workbook contains no default style, apply openpyxl's default\")\n"
     ]
    }
   ],
   "source": [
    "mutations = pd.read_pickle('../../data_mutation/geometric_mutations.pkl')\n",
    "print(f\"\\nInitial shape:\\n{mutations.shape}\")\n",
    "mutations = mutation_process(mutations)\n",
    "mutations = adjustment_bati(mutations, thresh_sbati=9, thresh_valeur=5000)\n",
    "mutations = niveau_center_connexion(mutations)\n",
    "mutations = pop_commune_year(mutations)\n",
    "mutations = density_commune(mutations)\n",
    "mutations = salary_connexion(mutations)\n",
    "mutations = inflation_month(mutations, dir='..')\n",
    "# mutations = inflation_rate_connexion(mutations)\n",
    "mutations = get_distances(mutations, dir='..', near=1, distance=1, radius=0.009)"
   ]
  },
  {
   "cell_type": "markdown",
   "metadata": {},
   "source": [
    "# Predictions"
   ]
  },
  {
   "cell_type": "code",
   "execution_count": 5,
   "metadata": {},
   "outputs": [],
   "source": [
    "features_1 = [\n",
    "       'coddep',  'vefa',\n",
    "       'nblot', 'l_codinsee', 'nbsection', 'nbpar',\n",
    "       'nbparmut', 'nbsuf', 'sterr', 'nbvolmut',\n",
    "       'nblocmut', 'nblocmai', 'nblocapt', 'nblocdep',\n",
    "       'nblocact', 'nbapt1pp', 'nbapt2pp', 'nbapt3pp', 'nbapt4pp', 'nbapt5pp',\n",
    "       'nbmai1pp', 'nbmai2pp', 'nbmai3pp', 'nbmai4pp', 'nbmai5pp', 'sbati',\n",
    "       'sbatmai', 'sbatapt', 'sbatact', 'sapt1pp', 'sapt2pp', 'sapt3pp',\n",
    "       'sapt4pp', 'sapt5pp', 'smai1pp', 'smai2pp', 'smai3pp', 'smai4pp',\n",
    "       'smai5pp', 'codtypbien', 'libtypbien',\n",
    "       'month', 'year', 'day', 'nivcentr',\n",
    "       'population', 'salary', 'smoyapt', 'latitude',\n",
    "       'longitude', 'inflation_rate'\n",
    "]\n",
    "\n",
    "features_2 = [\n",
    "       'month', 'year', 'day', 'salary', 'population',\n",
    "       'coddep', 'latitude', 'longitude',\n",
    "        'l_codinsee', 'sbati', 'sbatmai',\n",
    "       'sbatapt', 'nivcentr', \n",
    "        'sterr', 'smoyapt',\n",
    "        'nblocmai', 'nblocapt', 'nblocact',\n",
    "        'nblocmut', 'sbatact'\n",
    "]\n",
    "\n",
    "features_3 = [\n",
    "       'year', 'month', 'coddep',\n",
    "       'libnatmut', 'vefa', 'nblot', 'l_codinsee', 'nbpar',\n",
    "       'nbparmut', 'nbsuf', 'sterr', 'nbvolmut', 'nblocmut', 'nblocmai',\n",
    "       'nblocapt', 'nblocdep', 'nblocact', 'sbati', 'sbatmai', 'sbatapt',\n",
    "       'sbatact', 'sapt1pp', 'sapt2pp', 'sapt3pp', 'sapt4pp', 'sapt5pp',\n",
    "       'smai1pp', 'smai2pp', 'smai3pp', 'smai4pp', 'smai5pp', 'libtypbien',\n",
    "       'day',\n",
    "       'smoyapt', 'nivcentr', 'population', 'dens_pop', 'salary',\n",
    "       'inflation', 'near_distance', 'near_type', 'near_number', 'latitude',\n",
    "       'longitude'\n",
    "]"
   ]
  },
  {
   "cell_type": "code",
   "execution_count": 6,
   "metadata": {},
   "outputs": [],
   "source": [
    "def model_fitting(X_train, y_train, features, scaler_cols, model, scalery):\n",
    "    \n",
    "    scalery.fit(y_train)\n",
    "    y_train = scalery.transform(y_train)\n",
    "\n",
    "    x_train_scaled = scaler_cols.fit_transform(X_train)\n",
    "    model.fit(x_train_scaled, y_train.ravel())\n",
    "\n",
    "    return scaler_cols, model, scalery\n",
    "    \n",
    "\n",
    "def test_output(test_set, features, scaler_cols, model, scalery):\n",
    "    \"\"\"\n",
    "    predicting on the test set\n",
    "    \"\"\"\n",
    "    pred = model.predict(scaler_cols.transform(test_set[features]))\n",
    "    inv_pred = scalery.inverse_transform([pred]).ravel()\n",
    "    inv_pred = [elt  if elt > 0 else 5000 for elt in inv_pred]\n",
    "    \n",
    "    print(f\"R²: {r2_score(test_set.valeurfonc, inv_pred)}\")\n",
    "    print(f\"RMSE: {np.sqrt(mean_squared_error(test_set.valeurfonc, inv_pred))}\")\n",
    "    print(f\"MSE: {mean_squared_error(test_set.valeurfonc, inv_pred)}\")\n",
    "    print(f\"MAE: {mean_absolute_error(test_set.valeurfonc, inv_pred)}\")\n",
    "\n",
    "    return inv_pred\n",
    "\n",
    "def val_prediction(val_set, y_test, features, scaler_cols, model, scalery):\n",
    "    \"\"\"\n",
    "    predicting on the test set\n",
    "    \"\"\"\n",
    "    pred = model.predict(scaler_cols.transform(val_set[features]))\n",
    "    inv_pred = scalery.inverse_transform([pred]).ravel()\n",
    "    inv_pred = [elt  if elt > 0 else 5000 for elt in inv_pred]\n",
    "\n",
    "    print(f\"R²: {r2_score(y_test.valeurfonc, inv_pred)}\")\n",
    "    print(f\"RMSE: {np.sqrt(mean_squared_error(y_test.valeurfonc, inv_pred))}\")\n",
    "    print(f\"MSE: {mean_squared_error(y_test.valeurfonc, inv_pred)}\")\n",
    "    print(f\"MAE: {mean_absolute_error(y_test.valeurfonc, inv_pred)}\")\n",
    "\n",
    "    return pred"
   ]
  },
  {
   "cell_type": "code",
   "execution_count": 7,
   "metadata": {},
   "outputs": [],
   "source": [
    "mutations.coddep = mutations.coddep.astype('int')"
   ]
  },
  {
   "cell_type": "code",
   "execution_count": 32,
   "metadata": {},
   "outputs": [],
   "source": [
    "features = features_3\n",
    "sample_df = mutations[features+['valeurfonc']].copy()#sample(n=150000, random_state=42)\n",
    "sample_df = sample_df[sample_df.isna().sum(axis=1) == 0].copy()\n",
    "X = sample_df[features].copy()\n",
    "\n",
    "Y = sample_df[['valeurfonc']].copy()\n",
    "X_train, X_test, y_train, y_test = train_test_split(X, Y, test_size=0.33, random_state=42)\n",
    "\n",
    "scalery = MinMaxScaler()\n",
    "ct = make_column_transformer(\n",
    "      (StandardScaler(),\n",
    "        make_column_selector(dtype_include=np.number)),  # rating\n",
    "       (OneHotEncoder(handle_unknown='ignore'),\n",
    "        make_column_selector(dtype_include=object)))\n",
    "model = xgboost.XGBRegressor()\n",
    "# model = make_pipeline(TruncatedSVD(n_components=100), xgboost.XGBRegressor())\n",
    "\n",
    "scaler_cols, model, scalery = model_fitting(X_train, y_train, features, ct, model, scalery)"
   ]
  },
  {
   "cell_type": "code",
   "execution_count": 30,
   "metadata": {},
   "outputs": [
    {
     "name": "stdout",
     "output_type": "stream",
     "text": [
      "R²: 0.7902309468666301\n",
      "RMSE: 80951.73036861714\n",
      "MSE: 6553182649.673289\n",
      "MAE: 50182.26649878718\n"
     ]
    }
   ],
   "source": [
    "#################\n",
    "#### VALIDATION SET\n",
    "#################\n",
    "val_pred = val_prediction(X_test, y_test, features, scaler_cols, model, scalery)"
   ]
  },
  {
   "cell_type": "code",
   "execution_count": 18,
   "metadata": {},
   "outputs": [],
   "source": [
    "test_set = pd.read_csv('../../data_mutation/test_set.csv', sep=';')\n"
   ]
  },
  {
   "cell_type": "code",
   "execution_count": 19,
   "metadata": {},
   "outputs": [
    {
     "name": "stdout",
     "output_type": "stream",
     "text": [
      "\n",
      "Initial shape:\n",
      "(2767, 42)\n"
     ]
    },
    {
     "name": "stderr",
     "output_type": "stream",
     "text": [
      "/Users/muhieddineugo/opt/miniconda3/lib/python3.8/site-packages/openpyxl/styles/stylesheet.py:221: UserWarning: Workbook contains no default style, apply openpyxl's default\n",
      "  warn(\"Workbook contains no default style, apply openpyxl's default\")\n"
     ]
    }
   ],
   "source": [
    "test_set = pd.read_csv('../../data_mutation/test_set.csv', sep=';')\n",
    "test_set = mutation_test_process(test_set)\n",
    "print(f\"\\nInitial shape:\\n{test_set.shape}\")\n",
    "test_set = niveau_center_connexion(test_set)\n",
    "test_set = pop_commune_year(test_set)\n",
    "test_set = density_commune(test_set)\n",
    "test_set = salary_connexion(test_set)\n",
    "test_set = inflation_month(test_set, dir='..')\n",
    "# mutations = inflation_rate_connexion(mutations)\n",
    "test_set = get_distances(test_set, dir='..', near=1, distance=1, radius=0.009)"
   ]
  },
  {
   "cell_type": "code",
   "execution_count": 31,
   "metadata": {},
   "outputs": [
    {
     "name": "stdout",
     "output_type": "stream",
     "text": [
      "R²: -4.188283259281724\n",
      "RMSE: 285041.8898715975\n",
      "MSE: 81248878981.57195\n",
      "MAE: 256668.740238859\n"
     ]
    }
   ],
   "source": [
    "test_pred = test_output(test_set, features, scaler_cols, model, scalery)"
   ]
  },
  {
   "cell_type": "code",
   "execution_count": 19,
   "metadata": {},
   "outputs": [
    {
     "data": {
      "text/html": [
       "<style>#sk-container-id-2 {color: black;background-color: white;}#sk-container-id-2 pre{padding: 0;}#sk-container-id-2 div.sk-toggleable {background-color: white;}#sk-container-id-2 label.sk-toggleable__label {cursor: pointer;display: block;width: 100%;margin-bottom: 0;padding: 0.3em;box-sizing: border-box;text-align: center;}#sk-container-id-2 label.sk-toggleable__label-arrow:before {content: \"▸\";float: left;margin-right: 0.25em;color: #696969;}#sk-container-id-2 label.sk-toggleable__label-arrow:hover:before {color: black;}#sk-container-id-2 div.sk-estimator:hover label.sk-toggleable__label-arrow:before {color: black;}#sk-container-id-2 div.sk-toggleable__content {max-height: 0;max-width: 0;overflow: hidden;text-align: left;background-color: #f0f8ff;}#sk-container-id-2 div.sk-toggleable__content pre {margin: 0.2em;color: black;border-radius: 0.25em;background-color: #f0f8ff;}#sk-container-id-2 input.sk-toggleable__control:checked~div.sk-toggleable__content {max-height: 200px;max-width: 100%;overflow: auto;}#sk-container-id-2 input.sk-toggleable__control:checked~label.sk-toggleable__label-arrow:before {content: \"▾\";}#sk-container-id-2 div.sk-estimator input.sk-toggleable__control:checked~label.sk-toggleable__label {background-color: #d4ebff;}#sk-container-id-2 div.sk-label input.sk-toggleable__control:checked~label.sk-toggleable__label {background-color: #d4ebff;}#sk-container-id-2 input.sk-hidden--visually {border: 0;clip: rect(1px 1px 1px 1px);clip: rect(1px, 1px, 1px, 1px);height: 1px;margin: -1px;overflow: hidden;padding: 0;position: absolute;width: 1px;}#sk-container-id-2 div.sk-estimator {font-family: monospace;background-color: #f0f8ff;border: 1px dotted black;border-radius: 0.25em;box-sizing: border-box;margin-bottom: 0.5em;}#sk-container-id-2 div.sk-estimator:hover {background-color: #d4ebff;}#sk-container-id-2 div.sk-parallel-item::after {content: \"\";width: 100%;border-bottom: 1px solid gray;flex-grow: 1;}#sk-container-id-2 div.sk-label:hover label.sk-toggleable__label {background-color: #d4ebff;}#sk-container-id-2 div.sk-serial::before {content: \"\";position: absolute;border-left: 1px solid gray;box-sizing: border-box;top: 0;bottom: 0;left: 50%;z-index: 0;}#sk-container-id-2 div.sk-serial {display: flex;flex-direction: column;align-items: center;background-color: white;padding-right: 0.2em;padding-left: 0.2em;position: relative;}#sk-container-id-2 div.sk-item {position: relative;z-index: 1;}#sk-container-id-2 div.sk-parallel {display: flex;align-items: stretch;justify-content: center;background-color: white;position: relative;}#sk-container-id-2 div.sk-item::before, #sk-container-id-2 div.sk-parallel-item::before {content: \"\";position: absolute;border-left: 1px solid gray;box-sizing: border-box;top: 0;bottom: 0;left: 50%;z-index: -1;}#sk-container-id-2 div.sk-parallel-item {display: flex;flex-direction: column;z-index: 1;position: relative;background-color: white;}#sk-container-id-2 div.sk-parallel-item:first-child::after {align-self: flex-end;width: 50%;}#sk-container-id-2 div.sk-parallel-item:last-child::after {align-self: flex-start;width: 50%;}#sk-container-id-2 div.sk-parallel-item:only-child::after {width: 0;}#sk-container-id-2 div.sk-dashed-wrapped {border: 1px dashed gray;margin: 0 0.4em 0.5em 0.4em;box-sizing: border-box;padding-bottom: 0.4em;background-color: white;}#sk-container-id-2 div.sk-label label {font-family: monospace;font-weight: bold;display: inline-block;line-height: 1.2em;}#sk-container-id-2 div.sk-label-container {text-align: center;}#sk-container-id-2 div.sk-container {/* jupyter's `normalize.less` sets `[hidden] { display: none; }` but bootstrap.min.css set `[hidden] { display: none !important; }` so we also need the `!important` here to be able to override the default hidden behavior on the sphinx rendered scikit-learn.org. See: https://github.com/scikit-learn/scikit-learn/issues/21755 */display: inline-block !important;position: relative;}#sk-container-id-2 div.sk-text-repr-fallback {display: none;}</style><div id=\"sk-container-id-2\" class=\"sk-top-container\"><div class=\"sk-text-repr-fallback\"><pre>XGBRegressor(base_score=0.5, booster=&#x27;gbtree&#x27;, callbacks=None,\n",
       "             colsample_bylevel=1, colsample_bynode=1, colsample_bytree=1,\n",
       "             early_stopping_rounds=None, enable_categorical=False,\n",
       "             eval_metric=None, feature_types=None, gamma=0, gpu_id=-1,\n",
       "             grow_policy=&#x27;depthwise&#x27;, importance_type=None,\n",
       "             interaction_constraints=&#x27;&#x27;, learning_rate=0.300000012, max_bin=256,\n",
       "             max_cat_threshold=64, max_cat_to_onehot=4, max_delta_step=0,\n",
       "             max_depth=6, max_leaves=0, min_child_weight=1, missing=nan,\n",
       "             monotone_constraints=&#x27;()&#x27;, n_estimators=100, n_jobs=0,\n",
       "             num_parallel_tree=1, predictor=&#x27;auto&#x27;, random_state=0, ...)</pre><b>In a Jupyter environment, please rerun this cell to show the HTML representation or trust the notebook. <br />On GitHub, the HTML representation is unable to render, please try loading this page with nbviewer.org.</b></div><div class=\"sk-container\" hidden><div class=\"sk-item\"><div class=\"sk-estimator sk-toggleable\"><input class=\"sk-toggleable__control sk-hidden--visually\" id=\"sk-estimator-id-2\" type=\"checkbox\" checked><label for=\"sk-estimator-id-2\" class=\"sk-toggleable__label sk-toggleable__label-arrow\">XGBRegressor</label><div class=\"sk-toggleable__content\"><pre>XGBRegressor(base_score=0.5, booster=&#x27;gbtree&#x27;, callbacks=None,\n",
       "             colsample_bylevel=1, colsample_bynode=1, colsample_bytree=1,\n",
       "             early_stopping_rounds=None, enable_categorical=False,\n",
       "             eval_metric=None, feature_types=None, gamma=0, gpu_id=-1,\n",
       "             grow_policy=&#x27;depthwise&#x27;, importance_type=None,\n",
       "             interaction_constraints=&#x27;&#x27;, learning_rate=0.300000012, max_bin=256,\n",
       "             max_cat_threshold=64, max_cat_to_onehot=4, max_delta_step=0,\n",
       "             max_depth=6, max_leaves=0, min_child_weight=1, missing=nan,\n",
       "             monotone_constraints=&#x27;()&#x27;, n_estimators=100, n_jobs=0,\n",
       "             num_parallel_tree=1, predictor=&#x27;auto&#x27;, random_state=0, ...)</pre></div></div></div></div></div>"
      ],
      "text/plain": [
       "XGBRegressor(base_score=0.5, booster='gbtree', callbacks=None,\n",
       "             colsample_bylevel=1, colsample_bynode=1, colsample_bytree=1,\n",
       "             early_stopping_rounds=None, enable_categorical=False,\n",
       "             eval_metric=None, feature_types=None, gamma=0, gpu_id=-1,\n",
       "             grow_policy='depthwise', importance_type=None,\n",
       "             interaction_constraints='', learning_rate=0.300000012, max_bin=256,\n",
       "             max_cat_threshold=64, max_cat_to_onehot=4, max_delta_step=0,\n",
       "             max_depth=6, max_leaves=0, min_child_weight=1, missing=nan,\n",
       "             monotone_constraints='()', n_estimators=100, n_jobs=0,\n",
       "             num_parallel_tree=1, predictor='auto', random_state=0, ...)"
      ]
     },
     "execution_count": 19,
     "metadata": {},
     "output_type": "execute_result"
    }
   ],
   "source": [
    "model"
   ]
  },
  {
   "cell_type": "code",
   "execution_count": null,
   "metadata": {},
   "outputs": [],
   "source": [
    "model.save_model(\"svr_model.json\")"
   ]
  },
  {
   "cell_type": "code",
   "execution_count": null,
   "metadata": {},
   "outputs": [],
   "source": []
  }
 ],
 "metadata": {
  "kernelspec": {
   "display_name": "Python 3.8.5 ('base')",
   "language": "python",
   "name": "python3"
  },
  "language_info": {
   "codemirror_mode": {
    "name": "ipython",
    "version": 3
   },
   "file_extension": ".py",
   "mimetype": "text/x-python",
   "name": "python",
   "nbconvert_exporter": "python",
   "pygments_lexer": "ipython3",
   "version": "3.8.5"
  },
  "orig_nbformat": 4,
  "vscode": {
   "interpreter": {
    "hash": "bc895b69e755cdb2d9601c81f5369a2139eccb1bb64c066cd88f550054f4d0ce"
   }
  }
 },
 "nbformat": 4,
 "nbformat_minor": 2
}
