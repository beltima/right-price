{
 "cells": [
  {
   "cell_type": "code",
   "execution_count": 4,
   "metadata": {},
   "outputs": [
    {
     "data": {
      "text/plain": [
       "DataTransformerRegistry.enable('default')"
      ]
     },
     "execution_count": 4,
     "metadata": {},
     "output_type": "execute_result"
    }
   ],
   "source": [
    "#careful\n",
    "import pandas as pd #nul\n",
    "import numpy as np\n",
    "import datetime as dt\n",
    "import matplotlib.pyplot as plt\n",
    "import json\n",
    "import geopandas as gpd\n",
    "from tool_function import *\n",
    "import altair as alt\n",
    "from altair import expr, datum\n",
    "alt.data_transformers.disable_max_rows()"
   ]
  },
  {
   "cell_type": "code",
   "execution_count": 5,
   "metadata": {},
   "outputs": [],
   "source": [
    "#Sklearn\n",
    "from sklearn.preprocessing import OneHotEncoder\n",
    "from sklearn.model_selection import train_test_split\n",
    "from sklearn.ensemble import RandomForestClassifier, RandomForestRegressor\n",
    "from sklearn.metrics import classification_report\n",
    "from sklearn.linear_model import LogisticRegression\n",
    "from sklearn.linear_model import LogisticRegressionCV\n",
    "from sklearn.pipeline import make_pipeline, Pipeline\n",
    "from sklearn.preprocessing import StandardScaler, MinMaxScaler\n",
    "from sklearn.compose import make_column_transformer\n",
    "from sklearn.compose import make_column_selector\n",
    "from sklearn import svm\n",
    "from sklearn.inspection import permutation_importance\n",
    "from sklearn.decomposition import PCA\n",
    "from sklearn.pipeline import make_pipeline\n",
    "from sklearn.manifold import TSNE\n",
    "from sklearn.model_selection import GridSearchCV\n",
    "from sklearn.metrics import r2_score, mean_squared_error, mean_absolute_error\n",
    "from sklearn.metrics import RocCurveDisplay\n",
    "from sklearn.base import clone\n",
    "from sklearn import linear_model\n",
    "import xgboost\n",
    "\n",
    "from scipy.spatial import cKDTree\n",
    "from shapely.geometry import Point, LineString\n",
    "from shapely.geometry import Point\n"
   ]
  },
  {
   "attachments": {},
   "cell_type": "markdown",
   "metadata": {},
   "source": [
    "# Data Prep\n"
   ]
  },
  {
   "cell_type": "code",
   "execution_count": 6,
   "metadata": {},
   "outputs": [
    {
     "name": "stdout",
     "output_type": "stream",
     "text": [
      "\n",
      "Initial shape:\n",
      "(1271568, 64)\n",
      "\n",
      "Original shape mutation process (1271568, 64)\n",
      "Final shape mutation process (1259641, 41)\n",
      "\n",
      "Shape before adjustment of bati: (1259641, 41)\n",
      "Shape after adjustment of bati: (630565, 44), that is  50.06% of original observations\n",
      "\n"
     ]
    },
    {
     "name": "stderr",
     "output_type": "stream",
     "text": [
      "/Users/muhieddineugo/opt/miniconda3/lib/python3.8/site-packages/openpyxl/styles/stylesheet.py:221: UserWarning: Workbook contains no default style, apply openpyxl's default\n",
      "  warn(\"Workbook contains no default style, apply openpyxl's default\")\n"
     ]
    }
   ],
   "source": [
    "mutations = pd.read_pickle('../../data_mutation/geometric_mutations.pkl')\n",
    "print(f\"\\nInitial shape:\\n{mutations.shape}\")\n",
    "mutations = mutation_process(mutations)\n",
    "mutations = adjustment_bati(mutations, thresh_sbati=9, thresh_valeur=5000)\n",
    "mutations = niveau_center_connexion(mutations)\n",
    "mutations = pop_commune_year(mutations)\n",
    "mutations = density_commune(mutations)\n",
    "mutations = salary_connexion(mutations)\n",
    "mutations = inflation_month(mutations, dir='..')\n",
    "# mutations = inflation_rate_connexion(mutations)\n",
    "mutations = get_distances(mutations, dir='..', near=1, distance=1, radius=0.009)"
   ]
  },
  {
   "cell_type": "markdown",
   "metadata": {},
   "source": [
    "# Predictions"
   ]
  },
  {
   "cell_type": "code",
   "execution_count": null,
   "metadata": {},
   "outputs": [],
   "source": [
    "features_1 = [\n",
    "       'coddep',  'vefa',\n",
    "       'nblot', 'l_codinsee', 'nbsection', 'nbpar',\n",
    "       'nbparmut', 'nbsuf', 'sterr', 'nbvolmut',\n",
    "       'nblocmut', 'nblocmai', 'nblocapt', 'nblocdep',\n",
    "       'nblocact', 'nbapt1pp', 'nbapt2pp', 'nbapt3pp', 'nbapt4pp', 'nbapt5pp',\n",
    "       'nbmai1pp', 'nbmai2pp', 'nbmai3pp', 'nbmai4pp', 'nbmai5pp', 'sbati',\n",
    "       'sbatmai', 'sbatapt', 'sbatact', 'sapt1pp', 'sapt2pp', 'sapt3pp',\n",
    "       'sapt4pp', 'sapt5pp', 'smai1pp', 'smai2pp', 'smai3pp', 'smai4pp',\n",
    "       'smai5pp', 'codtypbien', 'libtypbien',\n",
    "       'month', 'year', 'day', 'nivcentr',\n",
    "       'population', 'salary', 'smoyapt', 'latitude',\n",
    "       'longitude', 'inflation_rate'\n",
    "]\n",
    "\n",
    "features_2 = [\n",
    "       'month', 'year', 'day', 'salary', 'population',\n",
    "       'coddep', 'latitude', 'longitude',\n",
    "        'l_codinsee', 'sbati', 'sbatmai',\n",
    "       'sbatapt', 'nivcentr', \n",
    "        'sterr', 'smoyapt',\n",
    "        'nblocmai', 'nblocapt', 'nblocact',\n",
    "        'nblocmut', 'sbatact'\n",
    "]\n",
    "\n",
    "features_3 = [\n",
    "       'year', 'month', 'coddep',\n",
    "       'libnatmut', 'vefa', 'nblot', 'l_codinsee', 'nbpar',\n",
    "       'nbparmut', 'nbsuf', 'sterr', 'nbvolmut', 'nblocmut', 'nblocmai',\n",
    "       'nblocapt', 'nblocdep', 'nblocact', 'sbati', 'sbatmai', 'sbatapt',\n",
    "       'sbatact', 'sapt1pp', 'sapt2pp', 'sapt3pp', 'sapt4pp', 'sapt5pp',\n",
    "       'smai1pp', 'smai2pp', 'smai3pp', 'smai4pp', 'smai5pp', 'libtypbien',\n",
    "       'first_idpar', 'day',\n",
    "       'smoyapt', 'nivcentr', 'population', 'dens_pop', 'salary',\n",
    "       'inflation', 'near_distance', 'near_type', 'near_number', 'latitude',\n",
    "       'longitude'\n",
    "]"
   ]
  },
  {
   "cell_type": "code",
   "execution_count": null,
   "metadata": {},
   "outputs": [],
   "source": [
    "def model_fitting(X_train, y_train, features, scaler_cols, model, scalery):\n",
    "    \n",
    "    scalery.fit(y_train)\n",
    "    y_train = scalery.transform(y_train)\n",
    "\n",
    "    x_train_scaled = scaler_cols.fit_transform(X_train)\n",
    "    model.fit(x_train_scaled, y_train.ravel())\n",
    "\n",
    "    return scaler_cols, model, scalery\n",
    "    \n",
    "\n",
    "def test_output(test_set, features, scaler_cols, model, scalery):\n",
    "    \"\"\"\n",
    "    predicting on the test set\n",
    "    \"\"\"\n",
    "    pred = model.predict(scaler_cols.transform(test_set[features]))\n",
    "    inv_pred = scalery.inverse_transform([pred]).ravel()\n",
    "    inv_pred = [elt  if elt > 0 else 5000 for elt in inv_pred]\n",
    "    \n",
    "    print(f\"R²: {r2_score(test_set.valeurfonc, inv_pred)}\")\n",
    "    print(f\"RMSE: {np.sqrt(mean_squared_error(test_set.valeurfonc, inv_pred))}\")\n",
    "    print(f\"MSE: {mean_squared_error(test_set.valeurfonc, inv_pred)}\")\n",
    "    print(f\"MAE: {mean_absolute_error(test_set.valeurfonc, inv_pred)}\")\n",
    "\n",
    "    return inv_pred\n",
    "\n",
    "def val_prediction(val_set, y_test, features, scaler_cols, model, scalery):\n",
    "    \"\"\"\n",
    "    predicting on the test set\n",
    "    \"\"\"\n",
    "    pred = model.predict(scaler_cols.transform(val_set[features]))\n",
    "    inv_pred = scalery.inverse_transform([pred]).ravel()\n",
    "    inv_pred = [elt  if elt > 0 else 5000 for elt in inv_pred]\n",
    "\n",
    "    print(f\"R²: {r2_score(y_test.valeurfonc, inv_pred)}\")\n",
    "    print(f\"RMSE: {np.sqrt(mean_squared_error(y_test.valeurfonc, inv_pred))}\")\n",
    "    print(f\"MSE: {mean_squared_error(y_test.valeurfonc, inv_pred)}\")\n",
    "    print(f\"MAE: {mean_absolute_error(y_test.valeurfonc, inv_pred)}\")\n",
    "\n",
    "    return pred"
   ]
  },
  {
   "cell_type": "code",
   "execution_count": 17,
   "metadata": {},
   "outputs": [],
   "source": [
    "features = features_3\n",
    "sample_df = mutations[features+['valeurfonc']].sample(n=150000, random_state=42)\n",
    "sample_df = sample_df[sample_df.isna().sum(axis=1) == 0].copy()\n",
    "X = sample_df[features].copy()\n",
    "\n",
    "Y = sample_df[['valeurfonc']].copy()\n",
    "X_train, X_test, y_train, y_test = train_test_split(X, Y, test_size=0.33, random_state=42)\n",
    "\n",
    "scalery = MinMaxScaler()\n",
    "ct = make_column_transformer(\n",
    "      (StandardScaler(),\n",
    "        make_column_selector(dtype_include=np.number)),  # rating\n",
    "       (OneHotEncoder(handle_unknown='ignore'),\n",
    "        make_column_selector(dtype_include=object)))\n",
    "model = xgboost.XGBRegressor()\n",
    "# model = RandomForestRegressor()\n",
    "\n",
    "scaler_cols, model, scalery = model_fitting(X_train, y_train, features, ct, model, scalery)"
   ]
  },
  {
   "cell_type": "code",
   "execution_count": 19,
   "metadata": {},
   "outputs": [
    {
     "name": "stdout",
     "output_type": "stream",
     "text": [
      "R²: 0.7928308688770552\n",
      "RMSE: 80378.29087955717\n",
      "MSE: 6460669644.718704\n",
      "MAE: 49110.15849662301\n"
     ]
    }
   ],
   "source": [
    "#################\n",
    "#### VALIDATION SET\n",
    "#################\n",
    "val_pred = val_prediction(X_test, y_test, features, scaler_cols, model, scalery)"
   ]
  },
  {
   "cell_type": "code",
   "execution_count": 16,
   "metadata": {},
   "outputs": [],
   "source": [
    "test_set = pd.read_csv('../../data_mutation/test_set.csv', sep=';')\n"
   ]
  },
  {
   "cell_type": "code",
   "execution_count": null,
   "metadata": {},
   "outputs": [],
   "source": [
    "#################\n",
    "#### TEST OUTPUT\n",
    "#################\n",
    "test_set = pd.read_csv('../../data_mutation/test_set.csv', sep=';')\n",
    "test_set = mutation_test_process(test_set)\n",
    "test_set  = niveau_center_connexion(test_set)\n",
    "test_set = pop_commune_year(test_set)\n",
    "test_set = salary_connexion(test_set)\n",
    "\n",
    "test_set['smoymai'] = test_set.sbatmai/test_set.nblocmai\n",
    "test_set['smoyapt'] = test_set.sbatapt/test_set.nblocapt\n",
    "test_set['smoyact'] = test_set.sbatact/test_set.nblocact\n",
    "test_pred = test_output(test_set, features_3, scaler_cols, model, scalery)"
   ]
  },
  {
   "cell_type": "code",
   "execution_count": 3,
   "metadata": {},
   "outputs": [],
   "source": [
    "def mutation_test_process(mutations):\n",
    "    \"\"\"\n",
    "    mutation localized preprocessing\n",
    "    \"\"\"\n",
    "    print('hi!')\n",
    "    # to_int\n",
    "    s_app = [f\"sapt{i}pp\" for i in range(1, 6)]\n",
    "    s_maison = [f\"smai{i}pp\" for i in range(1, 6)]\n",
    "    to_int = [\"idmutation\", \"anneemut\", \"moismut\", \"coddep\", \"nblot\", \"nbpar\", \"nbparmut\", \n",
    "              \"nbsuf\", \"sterr\", \"nbvolmut\", \"nblocmut\", \"nblocapt\", \"nblocdep\", \"nblocact\", \n",
    "              \"sbati\", \"sbatact\"] + s_app + s_maison   # to int since metres squared\n",
    "    for col in to_int:\n",
    "      mutations[col] = mutations[col].astype(int)\n",
    "\n",
    "    # datetime\n",
    "    mutations.datemut = pd.to_datetime(mutations.datemut)\n",
    "    mutations.rename(columns={\"anneemut\": \"year\", \"moismut\": \"month\"}, inplace=True)\n",
    "    mutations[\"day\"] = mutations.datemut.dt.day\n",
    "\n",
    "    #### Postcode\n",
    "    mutations['first_idpar'] = mutations.l_idpar.apply(lambda x: eval(x)[0])\n",
    "    mutations['l_codinsee'] = mutations.first_idpar.str[:5]\n",
    "\n",
    "    mutations['smoyapt'] = mutations.sbatapt/mutations.nblocapt\n",
    "    \n",
    "    # drop\n",
    "    n_app = [f\"nbapt{i}pp\" for i in range(1, 6)]\n",
    "    n_maison = [f\"nbmai{i}pp\" for i in range(1, 6)]\n",
    "    others = [ \"Unnamed: 0\", \"idmutinvar\",\n",
    "              \"idopendata\", \"idnatmut\", \"codservch\", \"refdoc\",\n",
    "              \"nbdispo\", \"nbcomm\", \"nbsection\", \"l_section\", \n",
    "              \"l_idpar\", \"l_idparmut\", \"l_idlocmut\",  \"codtypbien\"]   #'first_idpar' to erase? \n",
    "   \n",
    "    to_drop = n_app + n_maison + others\n",
    "    mutations.drop(columns=to_drop, axis=1, inplace=True)\n",
    "\n",
    "    mutations = gpd.GeoDataFrame(\n",
    "    mutations, geometry=gpd.points_from_xy(mutations.longitude, mutations.latitude))  \n",
    "    mutations['centroid'] = mutations.geometry\n",
    "    \n",
    "    return mutations"
   ]
  },
  {
   "cell_type": "code",
   "execution_count": 5,
   "metadata": {},
   "outputs": [
    {
     "name": "stdout",
     "output_type": "stream",
     "text": [
      "hi!\n",
      "\n",
      "Initial shape:\n",
      "(2767, 42)\n"
     ]
    },
    {
     "name": "stderr",
     "output_type": "stream",
     "text": [
      "/Users/muhieddineugo/opt/miniconda3/lib/python3.8/site-packages/openpyxl/styles/stylesheet.py:221: UserWarning: Workbook contains no default style, apply openpyxl's default\n",
      "  warn(\"Workbook contains no default style, apply openpyxl's default\")\n"
     ]
    }
   ],
   "source": [
    "test_set = pd.read_csv('../../data_mutation/test_set.csv', sep=';')\n",
    "test_set = mutation_test_process(test_set)\n",
    "print(f\"\\nInitial shape:\\n{test_set.shape}\")\n",
    "test_set = niveau_center_connexion(test_set)\n",
    "test_set = pop_commune_year(test_set)\n",
    "test_set = density_commune(test_set)\n",
    "test_set = salary_connexion(test_set)\n",
    "test_set = inflation_month(test_set, dir='..')\n",
    "# mutations = inflation_rate_connexion(mutations)\n",
    "test_set = get_distances(test_set, dir='..', near=1, distance=1, radius=0.009)"
   ]
  },
  {
   "cell_type": "code",
   "execution_count": 6,
   "metadata": {},
   "outputs": [
    {
     "data": {
      "text/plain": [
       "Index(['index', 'idmutation', 'datemut', 'year', 'month', 'coddep',\n",
       "       'libnatmut', 'vefa', 'valeurfonc', 'nblot', 'l_codinsee', 'nbpar',\n",
       "       'nbparmut', 'nbsuf', 'sterr', 'nbvolmut', 'nblocmut', 'nblocmai',\n",
       "       'nblocapt', 'nblocdep', 'nblocact', 'sbati', 'sbatmai', 'sbatapt',\n",
       "       'sbatact', 'sapt1pp', 'sapt2pp', 'sapt3pp', 'sapt4pp', 'sapt5pp',\n",
       "       'smai1pp', 'smai2pp', 'smai3pp', 'smai4pp', 'smai5pp', 'libtypbien',\n",
       "       'longitude', 'latitude', 'day', 'first_idpar', 'smoyapt', 'geometry',\n",
       "       'centroid', 'nivcentr', 'population', 'dens_pop', 'salary', 'inflation',\n",
       "       'near_distance', 'near_type', 'near_number'],\n",
       "      dtype='object')"
      ]
     },
     "execution_count": 6,
     "metadata": {},
     "output_type": "execute_result"
    }
   ],
   "source": [
    "test_set.columns"
   ]
  },
  {
   "cell_type": "code",
   "execution_count": 253,
   "metadata": {},
   "outputs": [],
   "source": [
    "# permutation_importancing(model, None, X_test, y_test, features_2, barplot = False, boxplot = True)"
   ]
  },
  {
   "cell_type": "code",
   "execution_count": null,
   "metadata": {},
   "outputs": [],
   "source": []
  }
 ],
 "metadata": {
  "kernelspec": {
   "display_name": "Python 3",
   "language": "python",
   "name": "python3"
  },
  "language_info": {
   "codemirror_mode": {
    "name": "ipython",
    "version": 3
   },
   "file_extension": ".py",
   "mimetype": "text/x-python",
   "name": "python",
   "nbconvert_exporter": "python",
   "pygments_lexer": "ipython3",
   "version": "3.10.6"
  },
  "orig_nbformat": 4,
  "vscode": {
   "interpreter": {
    "hash": "f2ccb58c476f33ba3e3aee7ac07234ef6b8217ef24ad64d2a7d4fed1a57c1cd2"
   }
  }
 },
 "nbformat": 4,
 "nbformat_minor": 2
}
